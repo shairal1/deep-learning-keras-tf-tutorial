{
  "cells": [
    {
      "cell_type": "markdown",
      "metadata": {
        "colab_type": "text",
        "id": "view-in-github"
      },
      "source": [
        "<a href=\"https://colab.research.google.com/github/shairal1/deep-learning-keras-tf-tutorial/blob/master/Word2Vec.ipynb\" target=\"_parent\"><img src=\"https://colab.research.google.com/assets/colab-badge.svg\" alt=\"Open In Colab\"/></a>"
      ]
    },
    {
      "cell_type": "code",
      "execution_count": null,
      "metadata": {
        "id": "HgbxrTKk9iXM"
      },
      "outputs": [],
      "source": [
        "import gensim\n",
        "from gensim.models import Word2Vec,KeyedVectors"
      ]
    },
    {
      "cell_type": "code",
      "execution_count": null,
      "metadata": {
        "colab": {
          "base_uri": "https://localhost:8080/"
        },
        "id": "Nw4l9II49nhU",
        "outputId": "93c13202-380d-4bf6-d096-6896bf1a1bd5"
      },
      "outputs": [
        {
          "name": "stdout",
          "output_type": "stream",
          "text": [
            "Collecting wget\n",
            "  Downloading wget-3.2.zip (10 kB)\n",
            "  Preparing metadata (setup.py) ... \u001b[?25l\u001b[?25hdone\n",
            "Building wheels for collected packages: wget\n",
            "  Building wheel for wget (setup.py) ... \u001b[?25l\u001b[?25hdone\n",
            "  Created wheel for wget: filename=wget-3.2-py3-none-any.whl size=9655 sha256=487d08a7f43d7260d0412f77c5d4608b451b5749ced7f374433e2b656c1888a7\n",
            "  Stored in directory: /root/.cache/pip/wheels/8b/f1/7f/5c94f0a7a505ca1c81cd1d9208ae2064675d97582078e6c769\n",
            "Successfully built wget\n",
            "Installing collected packages: wget\n",
            "Successfully installed wget-3.2\n"
          ]
        }
      ],
      "source": [
        "!pip install wget"
      ]
    },
    {
      "cell_type": "code",
      "execution_count": null,
      "metadata": {
        "colab": {
          "base_uri": "https://localhost:8080/"
        },
        "id": "8hoeSYcEQymD",
        "outputId": "b41eb699-cad9-4a59-fc70-6ae4be6d789c"
      },
      "outputs": [
        {
          "data": {
            "text/plain": [
              "[('cricketing', 0.8372225761413574),\n",
              " ('cricketers', 0.8165745735168457),\n",
              " ('Test_cricket', 0.8094819188117981),\n",
              " ('Twenty##_cricket', 0.8068488240242004),\n",
              " ('Twenty##', 0.7624265551567078),\n",
              " ('Cricket', 0.75413978099823),\n",
              " ('cricketer', 0.7372578382492065),\n",
              " ('twenty##', 0.7316356897354126),\n",
              " ('T##_cricket', 0.7304614186286926),\n",
              " ('West_Indies_cricket', 0.6987985968589783)]"
            ]
          },
          "execution_count": 18,
          "metadata": {},
          "output_type": "execute_result"
        }
      ],
      "source": [
        "wv.most_similar(['cricket'])"
      ]
    },
    {
      "cell_type": "code",
      "execution_count": 39,
      "metadata": {
        "colab": {
          "base_uri": "https://localhost:8080/"
        },
        "id": "1qTwUEcoRJ28",
        "outputId": "3ef3c452-8345-4fdc-9fc0-f5ed7bec5222"
      },
      "outputs": [
        {
          "name": "stderr",
          "output_type": "stream",
          "text": [
            "[nltk_data] Downloading package punkt to /root/nltk_data...\n",
            "[nltk_data]   Package punkt is already up-to-date!\n"
          ]
        }
      ],
      "source": [
        "from gensim.utils import simple_preprocess\n",
        "import os\n",
        "from nltk import sent_tokenize\n",
        "import nltk\n",
        "nltk.download('punkt')\n",
        "\n",
        "\n",
        "story=[]\n",
        "directory_path = 'game_of_thrones'  # Replace with the correct path to your directory\n",
        "\n",
        "for filename in os.listdir(directory_path):\n",
        "    file_path = os.path.join(directory_path, filename)\n",
        "    if os.path.isfile(file_path):# gave error that is why checking is file\n",
        "      f=open(os.path.join(directory_path,filename))\n",
        "      corpus=f.read()\n",
        "    raw_sent=sent_tokenize(corpus)# breaks into sent\n",
        "    for sent in raw_sent:\n",
        "      story.append(simple_preprocess(sent))# for all pre processing on sent"
      ]
    },
    {
      "cell_type": "code",
      "execution_count": 40,
      "metadata": {
        "colab": {
          "base_uri": "https://localhost:8080/"
        },
        "id": "RWX1mdp-SptO",
        "outputId": "7fddf993-9930-4515-b04c-79d425ce28a0"
      },
      "outputs": [
        {
          "data": {
            "text/plain": [
              "84380"
            ]
          },
          "execution_count": 40,
          "metadata": {},
          "output_type": "execute_result"
        }
      ],
      "source": [
        "len(story)"
      ]
    },
    {
      "cell_type": "code",
      "execution_count": 48,
      "metadata": {
        "id": "lLRgF0J8Z_qk"
      },
      "outputs": [],
      "source": [
        "from IPython.core.formatters import pretty\n",
        "import pprint\n",
        "\n",
        "pp = pprint.PrettyPrinter(indent=4)\n",
        "#pp.pprint(story)"
      ]
    },
    {
      "cell_type": "code",
      "execution_count": 44,
      "metadata": {
        "id": "r6aVvQZLa8ZI"
      },
      "outputs": [],
      "source": [
        "model =gensim.models.Word2Vec(window=10,min_count=2,workers=4)"
      ]
    },
    {
      "cell_type": "code",
      "execution_count": 45,
      "metadata": {
        "id": "EL8_9lrObcLc"
      },
      "outputs": [],
      "source": [
        "model.build_vocab(story)"
      ]
    },
    {
      "cell_type": "code",
      "execution_count": 49,
      "metadata": {
        "colab": {
          "base_uri": "https://localhost:8080/"
        },
        "id": "H0V9nEwKbcJA",
        "outputId": "d645dd6f-e631-4994-8be2-25c41c0f873c"
      },
      "outputs": [
        {
          "data": {
            "text/plain": [
              "(3352073, 4418640)"
            ]
          },
          "execution_count": 49,
          "metadata": {},
          "output_type": "execute_result"
        }
      ],
      "source": [
        "model.train(story,total_examples=model.corpus_count,epochs=model.epochs)"
      ]
    },
    {
      "cell_type": "code",
      "execution_count": 50,
      "metadata": {
        "colab": {
          "base_uri": "https://localhost:8080/"
        },
        "id": "kp16LkQicWXT",
        "outputId": "abc66982-97a1-4047-9933-5196141cdc2d"
      },
      "outputs": [
        {
          "data": {
            "text/plain": [
              "[('daeron', 0.8326933979988098),\n",
              " ('rhaenys', 0.8036951422691345),\n",
              " ('aerion', 0.8030574917793274),\n",
              " ('elia', 0.8009448647499084),\n",
              " ('aegon', 0.7938497066497803),\n",
              " ('affair', 0.7926146388053894),\n",
              " ('simpler', 0.7919837832450867),\n",
              " ('rhaegar', 0.7881331443786621),\n",
              " ('ashara', 0.7879977226257324),\n",
              " ('widow', 0.7865180969238281)]"
            ]
          },
          "execution_count": 50,
          "metadata": {},
          "output_type": "execute_result"
        }
      ],
      "source": [
        "model.wv.most_similar('daenerys')"
      ]
    }
  ],
  "metadata": {
    "colab": {
      "authorship_tag": "ABX9TyOm2HH87gHzLjDcckUQyIYk",
      "include_colab_link": true,
      "mount_file_id": "1jqsUzVoXvEliFIL7feCyPNSADjOa-Ndz",
      "provenance": []
    },
    "kernelspec": {
      "display_name": "Python 3",
      "name": "python3"
    },
    "language_info": {
      "name": "python"
    }
  },
  "nbformat": 4,
  "nbformat_minor": 0
}
